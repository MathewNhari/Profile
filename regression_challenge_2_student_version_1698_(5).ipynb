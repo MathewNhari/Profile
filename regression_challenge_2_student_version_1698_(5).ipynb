{
  "nbformat": 4,
  "nbformat_minor": 0,
  "metadata": {
    "kernelspec": {
      "display_name": "Python 3",
      "language": "python",
      "name": "python3"
    },
    "language_info": {
      "codemirror_mode": {
        "name": "ipython",
        "version": 3
      },
      "file_extension": ".py",
      "mimetype": "text/x-python",
      "name": "python",
      "nbconvert_exporter": "python",
      "pygments_lexer": "ipython3",
      "version": "3.7.7"
    },
    "colab": {
      "name": "regression_challenge_2_student_version-1698 (5).ipynb",
      "provenance": [],
      "collapsed_sections": [],
      "include_colab_link": true
    }
  },
  "cells": [
    {
      "cell_type": "markdown",
      "metadata": {
        "id": "view-in-github",
        "colab_type": "text"
      },
      "source": [
        "<a href=\"https://colab.research.google.com/github/MathewNhari/Profile/blob/master/regression_challenge_2_student_version_1698_(5).ipynb\" target=\"_parent\"><img src=\"https://colab.research.google.com/assets/colab-badge.svg\" alt=\"Open In Colab\"/></a>"
      ]
    },
    {
      "cell_type": "markdown",
      "metadata": {
        "id": "LtgWEfSUhnLB",
        "colab_type": "text"
      },
      "source": [
        "# Regression Coding Challenge 2: Pre-processing the Raw Titanic Dataset\n",
        "© Explore Data Science Academy\n",
        "\n",
        "\n",
        "Within the previous challenge, we began our journey towards creating a regression model capable of predicting the survivors of the historic sinking of the Titanic. \n",
        "\n",
        "For today's challenge, we expand upon this exploration by cleaning our data and performing feature engineering; ensuring that it is ready for use in various modelling strategies.  \n",
        "\n",
        "<br></br>\n",
        "\n",
        "<div align=\"center\" style=\"width: 600px; font-size: 80%; text-align: center; margin: 0 auto\">\n",
        "<img src=\"https://i.kinja-img.com/gawker-media/image/upload/fhygjbyvm8rorm1uyg6s.jpg\"\n",
        "     alt=\"Barnicles on your ship :( \"\n",
        "     style=\"float: center; padding-bottom=0.5em\"\n",
        "     width=600px/>\n",
        "Time to clean some ship data!\n",
        "</div>\n"
      ]
    },
    {
      "cell_type": "markdown",
      "metadata": {
        "id": "4JcDI6ufhnLD",
        "colab_type": "text"
      },
      "source": [
        "\n",
        "## Honour Code\n",
        "\n",
        "I **Kudakwashe Mathew**, **Nhari**, confirm - by submitting this document - that the solutions in this notebook are a result of my own work and that I abide by the EDSA honour code (https://drive.google.com/file/d/1QDCjGZJ8-FmJE3bZdIQNwnJyQKPhHZBn/view?usp=sharing).\n",
        "\n",
        "Non-compliance with the honour code constitutes a material breach of contract.\n"
      ]
    },
    {
      "cell_type": "markdown",
      "metadata": {
        "id": "K2BZ4rmxhnLF",
        "colab_type": "text"
      },
      "source": [
        "\n",
        "\n",
        "## Pre-requisites \n",
        "\n",
        "Before getting your hands dirty in this challenge (or erm... cleaning them), please ensure that the following steps have been taken:\n",
        "\n",
        " 1. You have completed _Regression Coding Challenge 1_. The coding challenges are designed to build upon one another, mimicking a process you will follow for most of your data science projects. \n",
        " \n",
        " 2. You have reviewed and are comfortable with the Titanic dataset contents. A further description of each field within the dataset can be found [here](https://www.kaggle.com/c/titanic/data)\n",
        " \n",
        "With these steps out of the way, we're ready to begin!\n",
        "\n",
        "### Imports "
      ]
    },
    {
      "cell_type": "code",
      "metadata": {
        "id": "9_ln4k1chnLG",
        "colab_type": "code",
        "colab": {}
      },
      "source": [
        "import numpy as np\n",
        "import pandas as pd\n",
        "import seaborn as sns\n",
        "import matplotlib.pyplot as plt"
      ],
      "execution_count": 106,
      "outputs": []
    },
    {
      "cell_type": "markdown",
      "metadata": {
        "id": "u9YMJG6nhnLO",
        "colab_type": "text"
      },
      "source": [
        "### Data Review"
      ]
    },
    {
      "cell_type": "code",
      "metadata": {
        "id": "Y8KUBxxihnLP",
        "colab_type": "code",
        "colab": {}
      },
      "source": [
        "train_df = pd.read_csv('https://raw.githubusercontent.com/Explore-AI/Public-Data/master/Data/regression_sprint/titanic_train_raw.csv')\n",
        "test_df = pd.read_csv('https://raw.githubusercontent.com/Explore-AI/Public-Data/master/Data/regression_sprint/titanic_test_raw.csv')"
      ],
      "execution_count": 107,
      "outputs": []
    },
    {
      "cell_type": "code",
      "metadata": {
        "id": "2aeKWsLhhnLV",
        "colab_type": "code",
        "colab": {
          "base_uri": "https://localhost:8080/",
          "height": 204
        },
        "outputId": "79994585-f7ba-443a-a6b9-e78fb87c956b"
      },
      "source": [
        "train_df.head()"
      ],
      "execution_count": 108,
      "outputs": [
        {
          "output_type": "execute_result",
          "data": {
            "text/html": [
              "<div>\n",
              "<style scoped>\n",
              "    .dataframe tbody tr th:only-of-type {\n",
              "        vertical-align: middle;\n",
              "    }\n",
              "\n",
              "    .dataframe tbody tr th {\n",
              "        vertical-align: top;\n",
              "    }\n",
              "\n",
              "    .dataframe thead th {\n",
              "        text-align: right;\n",
              "    }\n",
              "</style>\n",
              "<table border=\"1\" class=\"dataframe\">\n",
              "  <thead>\n",
              "    <tr style=\"text-align: right;\">\n",
              "      <th></th>\n",
              "      <th>PassengerId</th>\n",
              "      <th>Survived</th>\n",
              "      <th>Pclass</th>\n",
              "      <th>Name</th>\n",
              "      <th>Sex</th>\n",
              "      <th>Age</th>\n",
              "      <th>SibSp</th>\n",
              "      <th>Parch</th>\n",
              "      <th>Ticket</th>\n",
              "      <th>Fare</th>\n",
              "      <th>Cabin</th>\n",
              "      <th>Embarked</th>\n",
              "    </tr>\n",
              "  </thead>\n",
              "  <tbody>\n",
              "    <tr>\n",
              "      <th>0</th>\n",
              "      <td>1</td>\n",
              "      <td>0</td>\n",
              "      <td>3</td>\n",
              "      <td>Braund, Mr. Owen Harris</td>\n",
              "      <td>male</td>\n",
              "      <td>22.0</td>\n",
              "      <td>1</td>\n",
              "      <td>0</td>\n",
              "      <td>A/5 21171</td>\n",
              "      <td>7.2500</td>\n",
              "      <td>NaN</td>\n",
              "      <td>S</td>\n",
              "    </tr>\n",
              "    <tr>\n",
              "      <th>1</th>\n",
              "      <td>2</td>\n",
              "      <td>1</td>\n",
              "      <td>1</td>\n",
              "      <td>Cumings, Mrs. John Bradley (Florence Briggs Th...</td>\n",
              "      <td>female</td>\n",
              "      <td>38.0</td>\n",
              "      <td>1</td>\n",
              "      <td>0</td>\n",
              "      <td>PC 17599</td>\n",
              "      <td>71.2833</td>\n",
              "      <td>C85</td>\n",
              "      <td>C</td>\n",
              "    </tr>\n",
              "    <tr>\n",
              "      <th>2</th>\n",
              "      <td>3</td>\n",
              "      <td>1</td>\n",
              "      <td>3</td>\n",
              "      <td>Heikkinen, Miss. Laina</td>\n",
              "      <td>female</td>\n",
              "      <td>26.0</td>\n",
              "      <td>0</td>\n",
              "      <td>0</td>\n",
              "      <td>STON/O2. 3101282</td>\n",
              "      <td>7.9250</td>\n",
              "      <td>NaN</td>\n",
              "      <td>S</td>\n",
              "    </tr>\n",
              "    <tr>\n",
              "      <th>3</th>\n",
              "      <td>4</td>\n",
              "      <td>1</td>\n",
              "      <td>1</td>\n",
              "      <td>Futrelle, Mrs. Jacques Heath (Lily May Peel)</td>\n",
              "      <td>female</td>\n",
              "      <td>35.0</td>\n",
              "      <td>1</td>\n",
              "      <td>0</td>\n",
              "      <td>113803</td>\n",
              "      <td>53.1000</td>\n",
              "      <td>C123</td>\n",
              "      <td>S</td>\n",
              "    </tr>\n",
              "    <tr>\n",
              "      <th>4</th>\n",
              "      <td>5</td>\n",
              "      <td>0</td>\n",
              "      <td>3</td>\n",
              "      <td>Allen, Mr. William Henry</td>\n",
              "      <td>male</td>\n",
              "      <td>35.0</td>\n",
              "      <td>0</td>\n",
              "      <td>0</td>\n",
              "      <td>373450</td>\n",
              "      <td>8.0500</td>\n",
              "      <td>NaN</td>\n",
              "      <td>S</td>\n",
              "    </tr>\n",
              "  </tbody>\n",
              "</table>\n",
              "</div>"
            ],
            "text/plain": [
              "   PassengerId  Survived  Pclass  ...     Fare Cabin  Embarked\n",
              "0            1         0       3  ...   7.2500   NaN         S\n",
              "1            2         1       1  ...  71.2833   C85         C\n",
              "2            3         1       3  ...   7.9250   NaN         S\n",
              "3            4         1       1  ...  53.1000  C123         S\n",
              "4            5         0       3  ...   8.0500   NaN         S\n",
              "\n",
              "[5 rows x 12 columns]"
            ]
          },
          "metadata": {
            "tags": []
          },
          "execution_count": 108
        }
      ]
    },
    {
      "cell_type": "code",
      "metadata": {
        "id": "XiqvZUTThnLd",
        "colab_type": "code",
        "colab": {
          "base_uri": "https://localhost:8080/",
          "height": 204
        },
        "outputId": "2041113a-e394-4da4-d6a1-067832db82be"
      },
      "source": [
        "test_df.head()"
      ],
      "execution_count": 109,
      "outputs": [
        {
          "output_type": "execute_result",
          "data": {
            "text/html": [
              "<div>\n",
              "<style scoped>\n",
              "    .dataframe tbody tr th:only-of-type {\n",
              "        vertical-align: middle;\n",
              "    }\n",
              "\n",
              "    .dataframe tbody tr th {\n",
              "        vertical-align: top;\n",
              "    }\n",
              "\n",
              "    .dataframe thead th {\n",
              "        text-align: right;\n",
              "    }\n",
              "</style>\n",
              "<table border=\"1\" class=\"dataframe\">\n",
              "  <thead>\n",
              "    <tr style=\"text-align: right;\">\n",
              "      <th></th>\n",
              "      <th>PassengerId</th>\n",
              "      <th>Pclass</th>\n",
              "      <th>Name</th>\n",
              "      <th>Sex</th>\n",
              "      <th>Age</th>\n",
              "      <th>SibSp</th>\n",
              "      <th>Parch</th>\n",
              "      <th>Ticket</th>\n",
              "      <th>Fare</th>\n",
              "      <th>Cabin</th>\n",
              "      <th>Embarked</th>\n",
              "    </tr>\n",
              "  </thead>\n",
              "  <tbody>\n",
              "    <tr>\n",
              "      <th>0</th>\n",
              "      <td>892</td>\n",
              "      <td>3</td>\n",
              "      <td>Kelly, Mr. James</td>\n",
              "      <td>male</td>\n",
              "      <td>34.5</td>\n",
              "      <td>0</td>\n",
              "      <td>0</td>\n",
              "      <td>330911</td>\n",
              "      <td>7.8292</td>\n",
              "      <td>NaN</td>\n",
              "      <td>Q</td>\n",
              "    </tr>\n",
              "    <tr>\n",
              "      <th>1</th>\n",
              "      <td>893</td>\n",
              "      <td>3</td>\n",
              "      <td>Wilkes, Mrs. James (Ellen Needs)</td>\n",
              "      <td>female</td>\n",
              "      <td>47.0</td>\n",
              "      <td>1</td>\n",
              "      <td>0</td>\n",
              "      <td>363272</td>\n",
              "      <td>7.0000</td>\n",
              "      <td>NaN</td>\n",
              "      <td>S</td>\n",
              "    </tr>\n",
              "    <tr>\n",
              "      <th>2</th>\n",
              "      <td>894</td>\n",
              "      <td>2</td>\n",
              "      <td>Myles, Mr. Thomas Francis</td>\n",
              "      <td>male</td>\n",
              "      <td>62.0</td>\n",
              "      <td>0</td>\n",
              "      <td>0</td>\n",
              "      <td>240276</td>\n",
              "      <td>9.6875</td>\n",
              "      <td>NaN</td>\n",
              "      <td>Q</td>\n",
              "    </tr>\n",
              "    <tr>\n",
              "      <th>3</th>\n",
              "      <td>895</td>\n",
              "      <td>3</td>\n",
              "      <td>Wirz, Mr. Albert</td>\n",
              "      <td>male</td>\n",
              "      <td>27.0</td>\n",
              "      <td>0</td>\n",
              "      <td>0</td>\n",
              "      <td>315154</td>\n",
              "      <td>8.6625</td>\n",
              "      <td>NaN</td>\n",
              "      <td>S</td>\n",
              "    </tr>\n",
              "    <tr>\n",
              "      <th>4</th>\n",
              "      <td>896</td>\n",
              "      <td>3</td>\n",
              "      <td>Hirvonen, Mrs. Alexander (Helga E Lindqvist)</td>\n",
              "      <td>female</td>\n",
              "      <td>22.0</td>\n",
              "      <td>1</td>\n",
              "      <td>1</td>\n",
              "      <td>3101298</td>\n",
              "      <td>12.2875</td>\n",
              "      <td>NaN</td>\n",
              "      <td>S</td>\n",
              "    </tr>\n",
              "  </tbody>\n",
              "</table>\n",
              "</div>"
            ],
            "text/plain": [
              "   PassengerId  Pclass  ... Cabin Embarked\n",
              "0          892       3  ...   NaN        Q\n",
              "1          893       3  ...   NaN        S\n",
              "2          894       2  ...   NaN        Q\n",
              "3          895       3  ...   NaN        S\n",
              "4          896       3  ...   NaN        S\n",
              "\n",
              "[5 rows x 11 columns]"
            ]
          },
          "metadata": {
            "tags": []
          },
          "execution_count": 109
        }
      ]
    },
    {
      "cell_type": "markdown",
      "metadata": {
        "id": "rE4ReerRhnLk",
        "colab_type": "text"
      },
      "source": [
        "## Question 1: Handling Missing Data\n",
        "\n",
        "Having a comprehensive view of our dataset afforded by its exploration, we are ready to begin the first step of cleaning our data by considering cases of missing values.\n",
        "\n",
        "### Question 1.1: Removing Features\n",
        "\n",
        "In Question 1 of Challenge 1, we learnt that certain columns within our dataset had a high percentage of missing values. While there are numerous ways of handling such missing data, sometimes it is appropriate to discard them altogether. \n",
        "\n",
        "With this in mind, write a function called `drop_columns` which removes a column from a pandas dataframe if the percentage of missing values is greater than a given `threshold` value. Additionally, a user should also be able to provide a `unique_value_threshold` which removes a column if the percentage of unique values in that column is below the `unique_value_threshold`.    \n",
        "\n",
        "***Function arguments:***\n",
        " - `input_df` -> input `Pandas` DataFrame.\n",
        " - `threshold`-> python `float`, `threshhold` $\\in [0, 100.0]$.\n",
        " - `unique_value_threshold` -> python `float`, `unique_value_threshold` $\\in [0, 100.0]$.\n",
        "\n",
        "***Function Specifications:***\n",
        " - Name the function `drop_columns`\n",
        " - Must take any Pandas `DataFrame` as input and return a `DataFrame` as output.\n",
        " - Must remove one or more columns which exceed the drop `threshold`, as well as any columns whose percentage of unique values is below the `unique_value_threshold`. \n",
        " - If no columns exceed the `threshold` or have a unique value percentage less than `unique_value_threshold`, a dataframe identical to the input must be returned.  \n",
        " - **NaN values should be excluded when computing the percentage of unique values**"
      ]
    },
    {
      "cell_type": "markdown",
      "metadata": {
        "id": "sf2P1NOWBTgk",
        "colab_type": "text"
      },
      "source": [
        ""
      ]
    },
    {
      "cell_type": "markdown",
      "metadata": {
        "id": "7rZOGH7hCbWc",
        "colab_type": "text"
      },
      "source": [
        ""
      ]
    },
    {
      "cell_type": "code",
      "metadata": {
        "id": "6M8ln5m9hnLl",
        "colab_type": "code",
        "colab": {}
      },
      "source": [
        "### START FUNCTION\n",
        "def drop_columns(input_df, threshold, unique_value_threshold):\n",
        "  '''removes a column from a pandas dataframe if the percentage of missing \n",
        "  values is greater than a given threshold value.Also removes a column if the percentage \n",
        "  of unique values in that column is below the unique_value_threshold'''\n",
        "\n",
        "  # a copy is made to avoid droping the original columns of the dataset \n",
        "  df = input_df.copy()\n",
        "  missing = df.columns[df.isnull().sum()/len(input_df)*100 > threshold]\n",
        "  df.drop(missing, axis = 1, inplace = True)\n",
        "  unique_val = df.columns[df.nunique()/len(input_df)*100 < unique_value_threshold]\n",
        "  df.drop(unique_val, axis = 1, inplace = True)\n",
        "  \n",
        "  return df\n",
        "### END FUNCTION"
      ],
      "execution_count": 110,
      "outputs": []
    },
    {
      "cell_type": "code",
      "metadata": {
        "scrolled": false,
        "id": "gTQ0KJQChnLq",
        "colab_type": "code",
        "colab": {
          "base_uri": "https://localhost:8080/",
          "height": 204
        },
        "outputId": "ac4eacec-c3e9-4b55-937a-674f9838f6cf"
      },
      "source": [
        "drop_columns(train_df, 80, 15).head()"
      ],
      "execution_count": 111,
      "outputs": [
        {
          "output_type": "execute_result",
          "data": {
            "text/html": [
              "<div>\n",
              "<style scoped>\n",
              "    .dataframe tbody tr th:only-of-type {\n",
              "        vertical-align: middle;\n",
              "    }\n",
              "\n",
              "    .dataframe tbody tr th {\n",
              "        vertical-align: top;\n",
              "    }\n",
              "\n",
              "    .dataframe thead th {\n",
              "        text-align: right;\n",
              "    }\n",
              "</style>\n",
              "<table border=\"1\" class=\"dataframe\">\n",
              "  <thead>\n",
              "    <tr style=\"text-align: right;\">\n",
              "      <th></th>\n",
              "      <th>PassengerId</th>\n",
              "      <th>Name</th>\n",
              "      <th>Ticket</th>\n",
              "      <th>Fare</th>\n",
              "      <th>Cabin</th>\n",
              "    </tr>\n",
              "  </thead>\n",
              "  <tbody>\n",
              "    <tr>\n",
              "      <th>0</th>\n",
              "      <td>1</td>\n",
              "      <td>Braund, Mr. Owen Harris</td>\n",
              "      <td>A/5 21171</td>\n",
              "      <td>7.2500</td>\n",
              "      <td>NaN</td>\n",
              "    </tr>\n",
              "    <tr>\n",
              "      <th>1</th>\n",
              "      <td>2</td>\n",
              "      <td>Cumings, Mrs. John Bradley (Florence Briggs Th...</td>\n",
              "      <td>PC 17599</td>\n",
              "      <td>71.2833</td>\n",
              "      <td>C85</td>\n",
              "    </tr>\n",
              "    <tr>\n",
              "      <th>2</th>\n",
              "      <td>3</td>\n",
              "      <td>Heikkinen, Miss. Laina</td>\n",
              "      <td>STON/O2. 3101282</td>\n",
              "      <td>7.9250</td>\n",
              "      <td>NaN</td>\n",
              "    </tr>\n",
              "    <tr>\n",
              "      <th>3</th>\n",
              "      <td>4</td>\n",
              "      <td>Futrelle, Mrs. Jacques Heath (Lily May Peel)</td>\n",
              "      <td>113803</td>\n",
              "      <td>53.1000</td>\n",
              "      <td>C123</td>\n",
              "    </tr>\n",
              "    <tr>\n",
              "      <th>4</th>\n",
              "      <td>5</td>\n",
              "      <td>Allen, Mr. William Henry</td>\n",
              "      <td>373450</td>\n",
              "      <td>8.0500</td>\n",
              "      <td>NaN</td>\n",
              "    </tr>\n",
              "  </tbody>\n",
              "</table>\n",
              "</div>"
            ],
            "text/plain": [
              "   PassengerId  ... Cabin\n",
              "0            1  ...   NaN\n",
              "1            2  ...   C85\n",
              "2            3  ...   NaN\n",
              "3            4  ...  C123\n",
              "4            5  ...   NaN\n",
              "\n",
              "[5 rows x 5 columns]"
            ]
          },
          "metadata": {
            "tags": []
          },
          "execution_count": 111
        }
      ]
    },
    {
      "cell_type": "markdown",
      "metadata": {
        "id": "tZxs3q7YhnLw",
        "colab_type": "text"
      },
      "source": [
        "_**Expected Outputs:**_\n",
        "```python\n",
        "drop_columns(train_df, 60, 0.5).columns == ['PassengerId', 'Name', 'Age', 'SibSp', 'Parch', 'Ticket', 'Fare']\n",
        "\n",
        "drop_columns(train_df, 80, 15).columns == ['PassengerId', 'Name', 'Ticket', 'Fare', 'Cabin']\n",
        "```"
      ]
    },
    {
      "cell_type": "markdown",
      "metadata": {
        "id": "LucHLn4jhnLx",
        "colab_type": "text"
      },
      "source": [
        "### Question 1.2: Data Imputation \n",
        "\n",
        "In Question 2 of Challenge 1, we saw that it is possible to replace or [impute](https://en.wikipedia.org/wiki/Imputation_(statistics)) missing data based on simple population statistics such as the mean, median or mode of the targeted feature.\n",
        "\n",
        "When a friend of yours hears that you are imputing the `'Age'` column by simply taking the *mean* or *median* of the non-missing data, she decides to show-off the following code which produces two telling plots:    "
      ]
    },
    {
      "cell_type": "code",
      "metadata": {
        "id": "FYYHUf5yhnLy",
        "colab_type": "code",
        "colab": {
          "base_uri": "https://localhost:8080/",
          "height": 334
        },
        "outputId": "aa628ed7-f4ba-49ea-f639-fa97a5ca377b"
      },
      "source": [
        "plt.figure(figsize=(15,5))\n",
        "plt.subplot(1, 2, 1)\n",
        "sns.boxenplot(train_df['Pclass'], train_df['Age'], hue=train_df['Survived'])\n",
        "plt.subplot(1, 2, 2)\n",
        "sns.boxenplot(train_df['Sex'], train_df['Age'], hue=train_df['Survived'])\n",
        "plt.show()"
      ],
      "execution_count": 112,
      "outputs": [
        {
          "output_type": "display_data",
          "data": {
            "image/png": "[encoded data removed]",
            "text/plain": [
              "<Figure size 1080x360 with 2 Axes>"
            ]
          },
          "metadata": {
            "tags": [],
            "needs_background": "light"
          }
        }
      ]
    },
    {
      "cell_type": "code",
      "metadata": {
        "id": "FOz4h2dBhnL3",
        "colab_type": "code",
        "colab": {
          "base_uri": "https://localhost:8080/",
          "height": 441
        },
        "outputId": "f09e75b8-d57b-4442-c0f5-0c0fbbf14778"
      },
      "source": [
        "grid = sns.FacetGrid(train_df, row='Pclass', col='Sex', height=2.0, aspect=3.0)\n",
        "grid.map(plt.hist, 'Age', bins=30)\n",
        "grid.add_legend()\n",
        "plt.show()"
      ],
      "execution_count": 113,
      "outputs": [
        {
          "output_type": "display_data",
          "data": {
            "image/png": "[encoded data removed]",
            "text/plain": [
              "<Figure size 872x432 with 6 Axes>"
            ]
          },
          "metadata": {
            "tags": [],
            "needs_background": "light"
          }
        }
      ]
    },
    {
      "cell_type": "markdown",
      "metadata": {
        "id": "0m-fOlEihnL-",
        "colab_type": "text"
      },
      "source": [
        "Using these plots, your friend argues that there are correlations between the `'Pclass'`, `'Sex'` and `'Age'` features within the dataset, and that `'Age'` shows influence in predicting a given passenger's survival. \n",
        "\n",
        "Aware of this new knowledge, you decide to create a function, `conditional_impute`, which performs imputation upon an `age` column within a Pandas `DataFrame` based upon both `Sex` and `Pclass` columns. Given that you are uncertain which statistic best models your data, you decide to once again to add a `choice` parameter which allows either the *mean* or *median* to be used for imputing the data.   \n",
        "\n",
        "***Function arguments:***\n",
        " - `input_df` -> input `Pandas` DataFrame. \n",
        " - `choice`-> Python `string` of either `'mean'` or `'median'`. Default is `'median'`. \n",
        "\n",
        "***Function Specifications:***\n",
        " - Name the function `conditional_impute`\n",
        " - Must take a Pandas `DataFrame` as input and return a `DataFrame` as output.\n",
        " - Should impute `Age` values based upon the descriptive statistic method specified by `choice`.\n",
        " - Round all imputed answers to 1 decimal point. \n",
        " - If `choice` is not either `'mean'` or `'median'`,  a `ValueError` must be raised.  "
      ]
    },
    {
      "cell_type": "code",
      "metadata": {
        "id": "LTGb-1HohnL_",
        "colab_type": "code",
        "colab": {}
      },
      "source": [
        "### START FUNCTION\n",
        "def conditional_impute(input_df, choice='median'):\n",
        "  if choice not in ['median','mean'] :\n",
        "    raise ValueError\n",
        "  else:\n",
        "    input_df['Age'] = np.round(input_df['Age'].fillna(input_df.groupby(['Pclass','Sex'])['Age'].transform(choice)), 1)\n",
        "  return input_df\n",
        "\n",
        "### END FUNCTION"
      ],
      "execution_count": 114,
      "outputs": []
    },
    {
      "cell_type": "code",
      "metadata": {
        "id": "iQ51QYrghnMF",
        "colab_type": "code",
        "colab": {
          "base_uri": "https://localhost:8080/",
          "height": 204
        },
        "outputId": "55610d96-60be-4336-c078-bbf7baa9f5c8"
      },
      "source": [
        "conditional_impute(train_df, choice='mean')[['Name','Age']].tail()"
      ],
      "execution_count": 115,
      "outputs": [
        {
          "output_type": "execute_result",
          "data": {
            "text/html": [
              "<div>\n",
              "<style scoped>\n",
              "    .dataframe tbody tr th:only-of-type {\n",
              "        vertical-align: middle;\n",
              "    }\n",
              "\n",
              "    .dataframe tbody tr th {\n",
              "        vertical-align: top;\n",
              "    }\n",
              "\n",
              "    .dataframe thead th {\n",
              "        text-align: right;\n",
              "    }\n",
              "</style>\n",
              "<table border=\"1\" class=\"dataframe\">\n",
              "  <thead>\n",
              "    <tr style=\"text-align: right;\">\n",
              "      <th></th>\n",
              "      <th>Name</th>\n",
              "      <th>Age</th>\n",
              "    </tr>\n",
              "  </thead>\n",
              "  <tbody>\n",
              "    <tr>\n",
              "      <th>886</th>\n",
              "      <td>Montvila, Rev. Juozas</td>\n",
              "      <td>27.0</td>\n",
              "    </tr>\n",
              "    <tr>\n",
              "      <th>887</th>\n",
              "      <td>Graham, Miss. Margaret Edith</td>\n",
              "      <td>19.0</td>\n",
              "    </tr>\n",
              "    <tr>\n",
              "      <th>888</th>\n",
              "      <td>Johnston, Miss. Catherine Helen \"Carrie\"</td>\n",
              "      <td>21.8</td>\n",
              "    </tr>\n",
              "    <tr>\n",
              "      <th>889</th>\n",
              "      <td>Behr, Mr. Karl Howell</td>\n",
              "      <td>26.0</td>\n",
              "    </tr>\n",
              "    <tr>\n",
              "      <th>890</th>\n",
              "      <td>Dooley, Mr. Patrick</td>\n",
              "      <td>32.0</td>\n",
              "    </tr>\n",
              "  </tbody>\n",
              "</table>\n",
              "</div>"
            ],
            "text/plain": [
              "                                         Name   Age\n",
              "886                     Montvila, Rev. Juozas  27.0\n",
              "887              Graham, Miss. Margaret Edith  19.0\n",
              "888  Johnston, Miss. Catherine Helen \"Carrie\"  21.8\n",
              "889                     Behr, Mr. Karl Howell  26.0\n",
              "890                       Dooley, Mr. Patrick  32.0"
            ]
          },
          "metadata": {
            "tags": []
          },
          "execution_count": 115
        }
      ]
    },
    {
      "cell_type": "markdown",
      "metadata": {
        "id": "sTuXCQXZhnMM",
        "colab_type": "text"
      },
      "source": [
        "_**Expected Outputs:**_\n",
        "```python\n",
        "conditional_impute(train_df, choice='median')[['Name','Age']].tail()\n",
        "\n",
        "```\n",
        "\n",
        "><table border=\"1\" class=\"dataframe\">  <thead>    <tr style=\"text-align: right;\">      <th></th>      <th>Name</th>      <th>Age</th>    </tr>  </thead>  <tbody>    <tr>      <th>886</th>      <td>Montvila, Rev. Juozas</td>      <td>27.0</td>    </tr>    <tr>      <th>887</th>      <td>Graham, Miss. Margaret Edith</td>      <td>19.0</td>    </tr>    <tr>      <th>888</th>      <td>Johnston, Miss. Catherine Helen \"Carrie\"</td>      <td>21.5</td>    </tr>    <tr>      <th>889</th>      <td>Behr, Mr. Karl Howell</td>      <td>26.0</td>    </tr>    <tr>      <th>890</th>      <td>Dooley, Mr. Patrick</td>      <td>32.0</td>    </tr>  </tbody></table>\n",
        "\n",
        "<br><br>\n",
        "\n",
        "```python\n",
        "conditional_impute(train_df, choice='mean')[['Name','Age']].tail()\n",
        "```\n",
        "\n",
        "> <table border=\"1\" class=\"dataframe\">  <thead>    <tr style=\"text-align: right;\">      <th></th>      <th>Name</th>      <th>Age</th>    </tr>  </thead>  <tbody>    <tr>      <th>886</th>      <td>Montvila, Rev. Juozas</td>      <td>27.0</td>    </tr>    <tr>      <th>887</th>      <td>Graham, Miss. Margaret Edith</td>      <td>19.0</td>    </tr>    <tr>      <th>888</th>      <td>Johnston, Miss. Catherine Helen \"Carrie\"</td>      <td>21.8</td>    </tr>    <tr>      <th>889</th>      <td>Behr, Mr. Karl Howell</td>      <td>26.0</td>    </tr>    <tr>      <th>890</th>      <td>Dooley, Mr. Patrick</td>      <td>32.0</td>    </tr>  </tbody></table>"
      ]
    },
    {
      "cell_type": "markdown",
      "metadata": {
        "id": "BIdfju6-hnMO",
        "colab_type": "text"
      },
      "source": [
        "## Question 2: Feature Engineering \n",
        "\n",
        "Having considered missing data, we can now further prepare our dataset for use within a model by performing feature engineering.\n",
        "\n",
        "### Question 2.1: What's in a name?\n",
        "\n",
        "When you originally received the titanic dataset, you were excited to see the `Name` feature included, as you believed this might be another source of information to help infer a person's social status on the ship. To use this feature however, we need to extract an individual's _title_ from his/her name, as calling `train_df['Name'].unique().shape` tells us that every `Name` entry within our train dataset is currently unique. \n",
        "\n",
        "Go ahead and perform this transformation by writing a function called `extract_title`, which adds an extra `Title` column to our dataframe into which is placed a person's given title found within the `Name` column. \n",
        "\n",
        "Examples of title extraction; \n",
        " - `Braund, Mr. Owen Harris` maps to a title of `Mr.`\n",
        " - `Heikkinen, Miss. Laina` maps to a title of `Miss.`\n",
        "\n",
        "***Function arguments:***\n",
        " - `input_df` -> input `Pandas` DataFrame.\n",
        "\n",
        "***Function specifications:***\n",
        " - Name the function `extract_title`\n",
        " - Must take any Pandas `DataFrame` as input and return a `DataFrame` as output with an additional `Title` column.\n",
        " - Assume that `input_df` represents a DataFrame possessing a `'Name'` column, with each corresponding row entry being a `string`-based name containing exactly one title. \n",
        " - Assume that a title is represented by a word with two or more characters ending in a `.`"
      ]
    },
    {
      "cell_type": "code",
      "metadata": {
        "id": "dDa_4s0HhnMQ",
        "colab_type": "code",
        "colab": {}
      },
      "source": [
        "### START FUNCTION\n",
        "def extract_title(input_df):\n",
        "    s = input_df['Name']\n",
        "    input_df['Title'] = s.str.extract(\"([A-z]+)\\\\.\")\n",
        "    return input_df\n",
        "### END FUNCTION"
      ],
      "execution_count": 116,
      "outputs": []
    },
    {
      "cell_type": "code",
      "metadata": {
        "id": "hCV3aJ5OhnMV",
        "colab_type": "code",
        "colab": {
          "base_uri": "https://localhost:8080/",
          "height": 204
        },
        "outputId": "e75f7fb7-e68e-4f51-8c59-c6ef79bf9897"
      },
      "source": [
        "extract_title(train_df).head()"
      ],
      "execution_count": 117,
      "outputs": [
        {
          "output_type": "execute_result",
          "data": {
            "text/html": [
              "<div>\n",
              "<style scoped>\n",
              "    .dataframe tbody tr th:only-of-type {\n",
              "        vertical-align: middle;\n",
              "    }\n",
              "\n",
              "    .dataframe tbody tr th {\n",
              "        vertical-align: top;\n",
              "    }\n",
              "\n",
              "    .dataframe thead th {\n",
              "        text-align: right;\n",
              "    }\n",
              "</style>\n",
              "<table border=\"1\" class=\"dataframe\">\n",
              "  <thead>\n",
              "    <tr style=\"text-align: right;\">\n",
              "      <th></th>\n",
              "      <th>PassengerId</th>\n",
              "      <th>Survived</th>\n",
              "      <th>Pclass</th>\n",
              "      <th>Name</th>\n",
              "      <th>Sex</th>\n",
              "      <th>Age</th>\n",
              "      <th>SibSp</th>\n",
              "      <th>Parch</th>\n",
              "      <th>Ticket</th>\n",
              "      <th>Fare</th>\n",
              "      <th>Cabin</th>\n",
              "      <th>Embarked</th>\n",
              "      <th>Title</th>\n",
              "    </tr>\n",
              "  </thead>\n",
              "  <tbody>\n",
              "    <tr>\n",
              "      <th>0</th>\n",
              "      <td>1</td>\n",
              "      <td>0</td>\n",
              "      <td>3</td>\n",
              "      <td>Braund, Mr. Owen Harris</td>\n",
              "      <td>male</td>\n",
              "      <td>22.0</td>\n",
              "      <td>1</td>\n",
              "      <td>0</td>\n",
              "      <td>A/5 21171</td>\n",
              "      <td>7.2500</td>\n",
              "      <td>NaN</td>\n",
              "      <td>S</td>\n",
              "      <td>Mr</td>\n",
              "    </tr>\n",
              "    <tr>\n",
              "      <th>1</th>\n",
              "      <td>2</td>\n",
              "      <td>1</td>\n",
              "      <td>1</td>\n",
              "      <td>Cumings, Mrs. John Bradley (Florence Briggs Th...</td>\n",
              "      <td>female</td>\n",
              "      <td>38.0</td>\n",
              "      <td>1</td>\n",
              "      <td>0</td>\n",
              "      <td>PC 17599</td>\n",
              "      <td>71.2833</td>\n",
              "      <td>C85</td>\n",
              "      <td>C</td>\n",
              "      <td>Mrs</td>\n",
              "    </tr>\n",
              "    <tr>\n",
              "      <th>2</th>\n",
              "      <td>3</td>\n",
              "      <td>1</td>\n",
              "      <td>3</td>\n",
              "      <td>Heikkinen, Miss. Laina</td>\n",
              "      <td>female</td>\n",
              "      <td>26.0</td>\n",
              "      <td>0</td>\n",
              "      <td>0</td>\n",
              "      <td>STON/O2. 3101282</td>\n",
              "      <td>7.9250</td>\n",
              "      <td>NaN</td>\n",
              "      <td>S</td>\n",
              "      <td>Miss</td>\n",
              "    </tr>\n",
              "    <tr>\n",
              "      <th>3</th>\n",
              "      <td>4</td>\n",
              "      <td>1</td>\n",
              "      <td>1</td>\n",
              "      <td>Futrelle, Mrs. Jacques Heath (Lily May Peel)</td>\n",
              "      <td>female</td>\n",
              "      <td>35.0</td>\n",
              "      <td>1</td>\n",
              "      <td>0</td>\n",
              "      <td>113803</td>\n",
              "      <td>53.1000</td>\n",
              "      <td>C123</td>\n",
              "      <td>S</td>\n",
              "      <td>Mrs</td>\n",
              "    </tr>\n",
              "    <tr>\n",
              "      <th>4</th>\n",
              "      <td>5</td>\n",
              "      <td>0</td>\n",
              "      <td>3</td>\n",
              "      <td>Allen, Mr. William Henry</td>\n",
              "      <td>male</td>\n",
              "      <td>35.0</td>\n",
              "      <td>0</td>\n",
              "      <td>0</td>\n",
              "      <td>373450</td>\n",
              "      <td>8.0500</td>\n",
              "      <td>NaN</td>\n",
              "      <td>S</td>\n",
              "      <td>Mr</td>\n",
              "    </tr>\n",
              "  </tbody>\n",
              "</table>\n",
              "</div>"
            ],
            "text/plain": [
              "   PassengerId  Survived  Pclass  ... Cabin Embarked  Title\n",
              "0            1         0       3  ...   NaN        S     Mr\n",
              "1            2         1       1  ...   C85        C    Mrs\n",
              "2            3         1       3  ...   NaN        S   Miss\n",
              "3            4         1       1  ...  C123        S    Mrs\n",
              "4            5         0       3  ...   NaN        S     Mr\n",
              "\n",
              "[5 rows x 13 columns]"
            ]
          },
          "metadata": {
            "tags": []
          },
          "execution_count": 117
        }
      ]
    },
    {
      "cell_type": "markdown",
      "metadata": {
        "id": "GBmCREgChnMa",
        "colab_type": "text"
      },
      "source": [
        "_**Expected Outputs:**_\n",
        "```python\n",
        "\n",
        "extract_title(train_df)['Title'].unique() == ['Mr.', 'Mrs.', 'Miss.', 'Master.',\n",
        "                                              'Don.', 'Rev.', 'Dr.', 'Mme.','Ms.',\n",
        "                                              'Major.', 'Lady.', 'Sir.', 'Mlle.',\n",
        "                                              'Col.', 'Capt.','Countess.', 'Jonkheer.']\n",
        "\n",
        "\n",
        "extract_title(test_df)['Title'].unique() == ['Mr.', 'Mrs.', 'Miss.', 'Master.', \n",
        "                                             'Ms.', 'Col.', 'Rev.', 'Dr.','Dona.']\n",
        "\n",
        "``` "
      ]
    },
    {
      "cell_type": "markdown",
      "metadata": {
        "id": "WSjA226dhnMb",
        "colab_type": "text"
      },
      "source": [
        "### Question 2.2: Feature Selection\n",
        "\n",
        "Having your `'Title'` column prepared, you perform a quick examination to see the distribution of its categories with relation to the gender of a passenger.\n",
        "\n",
        "(***Note:*** Even if you weren't able to solve Q2.1, *we have imported the correct dataframe*, `title_df` in the code section beneath for your continued use.)"
      ]
    },
    {
      "cell_type": "code",
      "metadata": {
        "id": "h2LGSbXKhnMc",
        "colab_type": "code",
        "colab": {
          "base_uri": "https://localhost:8080/",
          "height": 607
        },
        "outputId": "6d08764a-4e13-4660-9ece-62b647e4b688"
      },
      "source": [
        "# Load the correct form of the train.csv for Q 2.2\n",
        "title_df = pd.read_csv('https://raw.githubusercontent.com/Explore-AI/Public-Data/master/Data/regression_sprint/titanic_train_title.csv')\n",
        "pd.crosstab(index=title_df['Title'], columns=title_df['Sex'])"
      ],
      "execution_count": 118,
      "outputs": [
        {
          "output_type": "execute_result",
          "data": {
            "text/html": [
              "<div>\n",
              "<style scoped>\n",
              "    .dataframe tbody tr th:only-of-type {\n",
              "        vertical-align: middle;\n",
              "    }\n",
              "\n",
              "    .dataframe tbody tr th {\n",
              "        vertical-align: top;\n",
              "    }\n",
              "\n",
              "    .dataframe thead th {\n",
              "        text-align: right;\n",
              "    }\n",
              "</style>\n",
              "<table border=\"1\" class=\"dataframe\">\n",
              "  <thead>\n",
              "    <tr style=\"text-align: right;\">\n",
              "      <th>Sex</th>\n",
              "      <th>female</th>\n",
              "      <th>male</th>\n",
              "    </tr>\n",
              "    <tr>\n",
              "      <th>Title</th>\n",
              "      <th></th>\n",
              "      <th></th>\n",
              "    </tr>\n",
              "  </thead>\n",
              "  <tbody>\n",
              "    <tr>\n",
              "      <th>Capt.</th>\n",
              "      <td>0</td>\n",
              "      <td>1</td>\n",
              "    </tr>\n",
              "    <tr>\n",
              "      <th>Col.</th>\n",
              "      <td>0</td>\n",
              "      <td>2</td>\n",
              "    </tr>\n",
              "    <tr>\n",
              "      <th>Countess.</th>\n",
              "      <td>1</td>\n",
              "      <td>0</td>\n",
              "    </tr>\n",
              "    <tr>\n",
              "      <th>Don.</th>\n",
              "      <td>0</td>\n",
              "      <td>1</td>\n",
              "    </tr>\n",
              "    <tr>\n",
              "      <th>Dr.</th>\n",
              "      <td>1</td>\n",
              "      <td>6</td>\n",
              "    </tr>\n",
              "    <tr>\n",
              "      <th>Jonkheer.</th>\n",
              "      <td>0</td>\n",
              "      <td>1</td>\n",
              "    </tr>\n",
              "    <tr>\n",
              "      <th>Lady.</th>\n",
              "      <td>1</td>\n",
              "      <td>0</td>\n",
              "    </tr>\n",
              "    <tr>\n",
              "      <th>Major.</th>\n",
              "      <td>0</td>\n",
              "      <td>2</td>\n",
              "    </tr>\n",
              "    <tr>\n",
              "      <th>Master.</th>\n",
              "      <td>0</td>\n",
              "      <td>40</td>\n",
              "    </tr>\n",
              "    <tr>\n",
              "      <th>Miss.</th>\n",
              "      <td>182</td>\n",
              "      <td>0</td>\n",
              "    </tr>\n",
              "    <tr>\n",
              "      <th>Mlle.</th>\n",
              "      <td>2</td>\n",
              "      <td>0</td>\n",
              "    </tr>\n",
              "    <tr>\n",
              "      <th>Mme.</th>\n",
              "      <td>1</td>\n",
              "      <td>0</td>\n",
              "    </tr>\n",
              "    <tr>\n",
              "      <th>Mr.</th>\n",
              "      <td>0</td>\n",
              "      <td>517</td>\n",
              "    </tr>\n",
              "    <tr>\n",
              "      <th>Mrs.</th>\n",
              "      <td>125</td>\n",
              "      <td>0</td>\n",
              "    </tr>\n",
              "    <tr>\n",
              "      <th>Ms.</th>\n",
              "      <td>1</td>\n",
              "      <td>0</td>\n",
              "    </tr>\n",
              "    <tr>\n",
              "      <th>Rev.</th>\n",
              "      <td>0</td>\n",
              "      <td>6</td>\n",
              "    </tr>\n",
              "    <tr>\n",
              "      <th>Sir.</th>\n",
              "      <td>0</td>\n",
              "      <td>1</td>\n",
              "    </tr>\n",
              "  </tbody>\n",
              "</table>\n",
              "</div>"
            ],
            "text/plain": [
              "Sex        female  male\n",
              "Title                  \n",
              "Capt.           0     1\n",
              "Col.            0     2\n",
              "Countess.       1     0\n",
              "Don.            0     1\n",
              "Dr.             1     6\n",
              "Jonkheer.       0     1\n",
              "Lady.           1     0\n",
              "Major.          0     2\n",
              "Master.         0    40\n",
              "Miss.         182     0\n",
              "Mlle.           2     0\n",
              "Mme.            1     0\n",
              "Mr.             0   517\n",
              "Mrs.          125     0\n",
              "Ms.             1     0\n",
              "Rev.            0     6\n",
              "Sir.            0     1"
            ]
          },
          "metadata": {
            "tags": []
          },
          "execution_count": 118
        }
      ]
    },
    {
      "cell_type": "markdown",
      "metadata": {
        "id": "fVWmkbkKhnMj",
        "colab_type": "text"
      },
      "source": [
        "From this observation, you realise that a just small group of categories represent a considerable majority of datapoints within the column. Using this outcome in your favour, you decide to only preserve the more common titles and to group the remaining items into a single category called `'Uncommon'`. \n",
        "\n",
        "\n",
        "To accomplish your objective, write a function called `group_titles` which takes in your dataframe containing the `Title` column, along with a selection of `uncommon_titles`, and returns the dataframe with the modified `Title` column in which the updated groupings are reflected.\n",
        "\n",
        "***Function arguments:***\n",
        " - `input_df` -> input `Pandas` DataFrame.\n",
        " - `uncommon_titles` -> A 1-D `list` of Python `strings` representing the categories of titles to be grouped into the `\"Uncommon\"` category. \n",
        "***Function specifications:***\n",
        " - Name the function `group_titles`\n",
        " - Must take any Pandas `DataFrame` as input and return a `DataFrame` with the `Title` column containing newly regrouped categories.\n",
        " - Assume that `input_df` represents a DataFrame possessing a `'Title'` column, with each corresponding row entry being a `string`-based title. "
      ]
    },
    {
      "cell_type": "code",
      "metadata": {
        "id": "9WlmcoTihnMk",
        "colab_type": "code",
        "colab": {}
      },
      "source": [
        "### START FUNCTION\n",
        "def group_titles(input_df, uncommon_titles):\n",
        "    input_df['Title'] = input_df['Title'].replace(uncommon_titles,'Uncommon')\n",
        "    return input_df\n",
        "### END FUNCTION"
      ],
      "execution_count": 119,
      "outputs": []
    },
    {
      "cell_type": "code",
      "metadata": {
        "id": "al_71_ixhnMo",
        "colab_type": "code",
        "colab": {
          "base_uri": "https://localhost:8080/",
          "height": 51
        },
        "outputId": "e74d6d3a-fc9f-4235-bee4-90f1b71e26c9"
      },
      "source": [
        "uncommon_titles = ['Don.', 'Rev.', 'Mme.','Major.', 'Sir.', 'Mlle.','Countess.', 'Jonkheer.']\n",
        "group_titles(title_df, uncommon_titles)['Title'].unique()"
      ],
      "execution_count": 120,
      "outputs": [
        {
          "output_type": "execute_result",
          "data": {
            "text/plain": [
              "array(['Mr.', 'Mrs.', 'Miss.', 'Master.', 'Uncommon', 'Dr.', 'Ms.',\n",
              "       'Lady.', 'Col.', 'Capt.'], dtype=object)"
            ]
          },
          "metadata": {
            "tags": []
          },
          "execution_count": 120
        }
      ]
    },
    {
      "cell_type": "markdown",
      "metadata": {
        "id": "v6pI8FrGhnMw",
        "colab_type": "text"
      },
      "source": [
        "_**Expected Outputs:**_\n",
        "```python\n",
        "group_titles(title_df, uncommon_titles=['Don.', 'Rev.', 'Mme.','Major.', 'Sir.', 'Mlle.','Countess.', 'Jonkheer.'])['Title'].unique() == \n",
        "['Mr.', 'Mrs.', 'Miss.', 'Master.', 'Uncommon', 'Dr.', 'Ms.',\n",
        "       'Lady.', 'Col.', 'Capt.']\n",
        "```"
      ]
    },
    {
      "cell_type": "markdown",
      "metadata": {
        "id": "qmDOBCpAhnMx",
        "colab_type": "text"
      },
      "source": [
        "### Question 2.3: Feature Encoding\n",
        "\n",
        "Finally, you further decide that it's time to encode your new categorical features within the `'Title'` column using [dummy variables.](https://en.wikipedia.org/wiki/Dummy_variable_(statistics)) \n",
        "\n",
        "Write a function called `encode_titles` which encodes the various categories contained within the `Title` column of an input DataFrame as numerically-based dummy variables. \n",
        "\n",
        "***Function arguments:***\n",
        " - `input_df` -> input `Pandas` DataFrame.\n",
        "\n",
        "***Function specifications:***\n",
        " - Name the function `encode_titles`\n",
        " - Must take any Pandas `DataFrame` as input and return a `DataFrame` as output with an expanded set of columns representing dummy variables corresponding to the newly regrouped `Title` categories.\n",
        " - Assume that `input_df` represents a DataFrame possessing a `'Title'` column, with each corresponding row entry being a `string`-based title. \n",
        " - **NB!** Ensure that your dummy encoding avoids the [dummy variable trap](https://stattrek.com/multiple-regression/dummy-variables.aspx). As a ***hint***, look at the documentation for the Pandas [get_dummies()](https://pandas.pydata.org/pandas-docs/stable/reference/api/pandas.get_dummies.html) function.\n",
        "\n",
        "(***Note:*** Even if you weren't able to solve Q2.2, *we have imported the correct dataframe*, `title_regrouped_df` in the code section beneath for your continued use.)"
      ]
    },
    {
      "cell_type": "code",
      "metadata": {
        "id": "6LdXvA9ShnMx",
        "colab_type": "code",
        "colab": {}
      },
      "source": [
        "# Load the correct form of the train.csv for Q 2.2\n",
        "title_regrouped_df = pd.read_csv('https://raw.githubusercontent.com/Explore-AI/Public-Data/master/Data/regression_sprint/titanic_train_title_regrouped.csv')"
      ],
      "execution_count": 121,
      "outputs": []
    },
    {
      "cell_type": "markdown",
      "metadata": {
        "id": "klMqxn8NhnM2",
        "colab_type": "text"
      },
      "source": [
        "Function implementation:"
      ]
    },
    {
      "cell_type": "code",
      "metadata": {
        "id": "dQCGbHpehnM3",
        "colab_type": "code",
        "colab": {}
      },
      "source": [
        "### START FUNCTION\n",
        "def dummy_encode_titles(input_df):\n",
        "  df = pd.get_dummies(input_df, drop_first=True)\n",
        "  return df\n",
        "\n",
        "### END FUNCTION"
      ],
      "execution_count": 122,
      "outputs": []
    },
    {
      "cell_type": "code",
      "metadata": {
        "scrolled": true,
        "id": "_Jodk4d4hnM7",
        "colab_type": "code",
        "colab": {
          "base_uri": "https://localhost:8080/",
          "height": 204
        },
        "outputId": "015fbaa2-8f44-4c79-bf3c-b2ede96f1777"
      },
      "source": [
        "encode_df = dummy_encode_titles(title_regrouped_df)\n",
        "dummy_cols = [col for col in encode_df if col.startswith('Title')]\n",
        "encode_df[dummy_cols].head()"
      ],
      "execution_count": 123,
      "outputs": [
        {
          "output_type": "execute_result",
          "data": {
            "text/html": [
              "<div>\n",
              "<style scoped>\n",
              "    .dataframe tbody tr th:only-of-type {\n",
              "        vertical-align: middle;\n",
              "    }\n",
              "\n",
              "    .dataframe tbody tr th {\n",
              "        vertical-align: top;\n",
              "    }\n",
              "\n",
              "    .dataframe thead th {\n",
              "        text-align: right;\n",
              "    }\n",
              "</style>\n",
              "<table border=\"1\" class=\"dataframe\">\n",
              "  <thead>\n",
              "    <tr style=\"text-align: right;\">\n",
              "      <th></th>\n",
              "      <th>Title_Miss.</th>\n",
              "      <th>Title_Mr.</th>\n",
              "      <th>Title_Mrs.</th>\n",
              "      <th>Title_Uncommon</th>\n",
              "    </tr>\n",
              "  </thead>\n",
              "  <tbody>\n",
              "    <tr>\n",
              "      <th>0</th>\n",
              "      <td>0</td>\n",
              "      <td>1</td>\n",
              "      <td>0</td>\n",
              "      <td>0</td>\n",
              "    </tr>\n",
              "    <tr>\n",
              "      <th>1</th>\n",
              "      <td>0</td>\n",
              "      <td>0</td>\n",
              "      <td>1</td>\n",
              "      <td>0</td>\n",
              "    </tr>\n",
              "    <tr>\n",
              "      <th>2</th>\n",
              "      <td>1</td>\n",
              "      <td>0</td>\n",
              "      <td>0</td>\n",
              "      <td>0</td>\n",
              "    </tr>\n",
              "    <tr>\n",
              "      <th>3</th>\n",
              "      <td>0</td>\n",
              "      <td>0</td>\n",
              "      <td>1</td>\n",
              "      <td>0</td>\n",
              "    </tr>\n",
              "    <tr>\n",
              "      <th>4</th>\n",
              "      <td>0</td>\n",
              "      <td>1</td>\n",
              "      <td>0</td>\n",
              "      <td>0</td>\n",
              "    </tr>\n",
              "  </tbody>\n",
              "</table>\n",
              "</div>"
            ],
            "text/plain": [
              "   Title_Miss.  Title_Mr.  Title_Mrs.  Title_Uncommon\n",
              "0            0          1           0               0\n",
              "1            0          0           1               0\n",
              "2            1          0           0               0\n",
              "3            0          0           1               0\n",
              "4            0          1           0               0"
            ]
          },
          "metadata": {
            "tags": []
          },
          "execution_count": 123
        }
      ]
    },
    {
      "cell_type": "markdown",
      "metadata": {
        "id": "tsCKJ89JhnNB",
        "colab_type": "text"
      },
      "source": [
        "_**Expected Outputs:**_\n",
        "```python\n",
        "encode_df = dummy_encode_titles(title_regrouped_df)\n",
        "dummy_cols = [col for col in encode_df if col.startswith('Title')]\n",
        "encode_df[dummy_cols].head()\n",
        "```\n",
        "\n",
        "><table border=\"1\" class=\"dataframe\">  <thead>    <tr style=\"text-align: right;\">      <th></th>      <th>Title_Miss.</th>      <th>Title_Mr.</th>      <th>Title_Mrs.</th>      <th>Title_Uncommon</th>    </tr>  </thead>  <tbody>    <tr>      <th>0</th>      <td>0</td>      <td>1</td>      <td>0</td>      <td>0</td>    </tr>    <tr>      <th>1</th>      <td>0</td>      <td>0</td>      <td>1</td>      <td>0</td>    </tr>    <tr>      <th>2</th>      <td>1</td>      <td>0</td>      <td>0</td>      <td>0</td>    </tr>    <tr>      <th>3</th>      <td>0</td>      <td>0</td>      <td>1</td>      <td>0</td>    </tr>    <tr>      <th>4</th>      <td>0</td>      <td>1</td>      <td>0</td>      <td>0</td>    </tr>  </tbody></table>"
      ]
    },
    {
      "cell_type": "code",
      "metadata": {
        "id": "lIydLMPkhnNC",
        "colab_type": "code",
        "colab": {}
      },
      "source": [
        ""
      ],
      "execution_count": 123,
      "outputs": []
    }
  ]
}